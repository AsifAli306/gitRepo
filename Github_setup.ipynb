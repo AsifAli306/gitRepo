{
 "cells": [
  {
   "cell_type": "markdown",
   "metadata": {},
   "source": [
    "### 1. First Go To Folder where we want to push matrial to Git hub\n",
    "- cd 'path'\n",
    "### 2. git init just to check\n",
    "- git init\n",
    "### 3. Global configration if already done then not need to do this\n",
    "-  git config --global user.name\n",
    "-  or \n",
    "-  git config --global user.name 'AsifAli306'\n",
    "-  or\n",
    "-  git config --global user.email \n",
    "-  or \n",
    "-  git config --global user.mail 2016-cs-536@uosahiwal.edu.pk\n",
    "### 4. untracked files means the file which is present in this folder is tracked or not by git\n",
    "- git status\n",
    "### 5. add file to track \n",
    "- git add filename(like README.md)\n",
    "- git status (check status of track file to changes to be committed)\n",
    "### 5. After this we commit it\n",
    "- git commit -m ''This is the first commit'' ---> (All changes to be move Stagging Area. Stagging is are or playground where file present to push repositery.)\n",
    "-  git status (on branch master, nothing to commint, working tree clean)\n",
    "### 6. check git brach \n",
    "- git branch\n",
    "- (show 'master')\n",
    "### 7. Change branch name to main\n",
    "- git branch -M main\n",
    "- cls (clearn screen)\n",
    "### 8. Given address of Repositery where we want to push the file\n",
    "- git remote add origin https://github.com/AsifAli306/gitRepo.git\n",
    "- git status (still show its on stagging area still nothing commit)\n",
    "### 9.  Show where which Repositery we fetch or push\n",
    "- git remote -v\n",
    "### 10. Filnally push to main Branch \n",
    "- git push origin main\n",
    "### 11. if we made change to present file to check with git status its show --> modified:\n",
    "- git status (after modification of file)\n",
    "    ### to restore previous version\n",
    "    - git restore README.md (file nale which want to restore)\n",
    "### 12. Commit second file also \n",
    "- git add .\n",
    "- git commit -m \"This is Second commit\"\n",
    "- git remote -v\n",
    "- git push origin main\n",
    "\n"
   ]
  },
  {
   "cell_type": "code",
   "execution_count": null,
   "metadata": {},
   "outputs": [],
   "source": []
  }
 ],
 "metadata": {
  "language_info": {
   "name": "python"
  },
  "orig_nbformat": 4
 },
 "nbformat": 4,
 "nbformat_minor": 2
}
